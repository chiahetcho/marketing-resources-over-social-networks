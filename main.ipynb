{
 "metadata": {
  "language_info": {
   "codemirror_mode": {
    "name": "ipython",
    "version": 3
   },
   "file_extension": ".py",
   "mimetype": "text/x-python",
   "name": "python",
   "nbconvert_exporter": "python",
   "pygments_lexer": "ipython3",
   "version": "3.9.1-final"
  },
  "orig_nbformat": 2,
  "kernelspec": {
   "name": "python391jvsc74a57bd0ec4cf22b11d95f02ceb24164413aa8da32da38125932003058ec41604dcacd44",
   "display_name": "Python 3.9.1 64-bit ('venv')"
  },
  "metadata": {
   "interpreter": {
    "hash": "aee8b7b246df8f9039afb4144a1f6fd8d2ca17a180786b69acc140d282b71a49"
   }
  }
 },
 "nbformat": 4,
 "nbformat_minor": 2,
 "cells": [
  {
   "cell_type": "code",
   "execution_count": 116,
   "metadata": {},
   "outputs": [],
   "source": [
    "import random\n",
    "import numpy as np"
   ]
  },
  {
   "cell_type": "code",
   "execution_count": 117,
   "metadata": {},
   "outputs": [
    {
     "output_type": "stream",
     "name": "stdout",
     "text": [
      "[0]\n"
     ]
    }
   ],
   "source": [
    "gamma = np.array([1, 1])\n",
    "B = np.array([10, 10])\n",
    "lambd = np.array([0.1, 0.1])\n",
    "N = 10\n",
    "a = np.array([[B[0]/N for _ in range(N)], [B[1]/N for _ in range(N)]])\n",
    "b = np.array([B[0]/2, B[1]/2])\n",
    "number_of_leaders = 1 # C in the paper?\n",
    "C = 5\n",
    "leaders_indices = random.sample(range(N), number_of_leaders)\n",
    "print(leaders_indices)\n",
    "rho = np.array([C if index in leaders_indices else 1 for index in range(N)])\n",
    "x_0 = np.array([0.5 for index in range(N)])\n",
    "pas = 0.01"
   ]
  },
  {
   "cell_type": "code",
   "execution_count": 118,
   "metadata": {
    "tags": []
   },
   "outputs": [
    {
     "output_type": "stream",
     "name": "stdout",
     "text": [
      "[3.27297031 0.74744774 0.74744774 0.74744774 0.74744774 0.74744774\n 0.74744774 0.74744774 0.74744774 0.74744774]\n[3.27297031 0.74744774 0.74744774 0.74744774 0.74744774 0.74744774\n 0.74744774 0.74744774 0.74744774 0.74744774]\n"
     ]
    }
   ],
   "source": [
    "for x in range(100):\n",
    "    W_0 = [\n",
    "        np.array([index for index in range(N) if a[0][index]==0]),\n",
    "        np.array([index for index in range(N) if a[1][index]==0])\n",
    "        ]\n",
    "    W_1 = [\n",
    "        np.array([index for index in range(N) if a[0][index]==b[0]]), \n",
    "        np.array([index for index in range(N) if a[1][index]==b[1]])\n",
    "        ]\n",
    "    W_2 = [\n",
    "        np.array([index for index in range(N) if not(index in W_0[0] or index in W_1[0])]),\n",
    "        np.array([index for index in range(N) if not(index in W_0[1] or index in W_1[1])])\n",
    "    ]\n",
    "\n",
    "    # compute mu_0\n",
    "\n",
    "    sqrt_d = [\n",
    "        np.sqrt(rho*(np.array([1 for _ in range(N)])-x_0+ a[1])), \n",
    "        np.sqrt(rho*(x_0+ a[0]))\n",
    "    ]\n",
    "    \n",
    "    numerator = [\n",
    "        sum([sqrt_d[0][index] for index in W_2[0]]), \n",
    "        sum([sqrt_d[1][index] for index in W_2[1]])]\n",
    "    denominator = [\n",
    "        B[0]-b[0]*len(W_1[0])+len(W_2[0])+sum([a[1][index] for index in W_2[0]]),\n",
    "        B[1]-b[1]*len(W_1[1])+len(W_2[1])+sum([a[0][index] for index in W_2[1]])\n",
    "        ]\n",
    "\n",
    "    mu_0 = [\n",
    "        (numerator[0]/denominator[0])**2 - lambd[0],\n",
    "        (numerator[1]/denominator[1])**2 - lambd[1]\n",
    "    ]\n",
    "    # compute alpha\n",
    "\n",
    "    alpha = [\n",
    "        np.sqrt(gamma[0]/(mu_0[0]+lambd[0]))*sqrt_d[0] - 1 - a[1],\n",
    "        np.sqrt(gamma[1]/(mu_0[1]+lambd[1]))*sqrt_d[1] - 1 - a[0]\n",
    "    ]\n",
    "\n",
    "    beta = [\n",
    "        np.minimum([b[0] for index in range(N)], np.maximum([0 for index in range(N)], alpha[0])),\n",
    "        np.minimum([b[1] for index in range(N)], np.maximum([0 for index in range(N)], alpha[1]))\n",
    "    ]\n",
    "    a = [(beta[0] - a[0])*pas+a[0], (beta[1] - a[1])*pas+a[1]]\n",
    "\n",
    "print(a[0], a[1], sep='\\n')"
   ]
  },
  {
   "cell_type": "code",
   "execution_count": 91,
   "metadata": {},
   "outputs": [],
   "source": []
  },
  {
   "cell_type": "code",
   "execution_count": 92,
   "metadata": {},
   "outputs": [
    {
     "output_type": "stream",
     "name": "stdout",
     "text": [
      "[array([0.99669973, 0.99669973, 0.99669973, 0.99669973, 1.02970241,\n       0.99669973, 0.99669973, 0.99669973, 0.99669973, 0.99669973]), array([1.00669973, 1.00669973, 1.00669973, 1.00669973, 1.03970241,\n       1.00669973, 1.00669973, 1.00669973, 1.00669973, 1.00669973])]\n"
     ]
    }
   ],
   "source": [
    "\n"
   ]
  },
  {
   "cell_type": "code",
   "execution_count": 69,
   "metadata": {},
   "outputs": [
    {
     "output_type": "stream",
     "name": "stdout",
     "text": [
      "[[0.5 0.5 0.5 ... 0.5 0.5 0.5]\n [0.5 0.5 0.5 ... 0.5 0.5 0.5]\n [0.5 0.5 0.5 ... 0.5 0.5 0.5]\n ...\n [0.5 0.5 0.5 ... 0.5 0.5 0.5]\n [0.5 0.5 0.5 ... 0.5 0.5 0.5]\n [0.5 0.5 0.5 ... 0.5 0.5 0.5]]\n"
     ]
    }
   ],
   "source": []
  },
  {
   "cell_type": "code",
   "execution_count": 70,
   "metadata": {},
   "outputs": [
    {
     "output_type": "stream",
     "name": "stdout",
     "text": [
      "[0.5 0.5 0.5 0.5 0.5 0.5 0.5 0.5 0.5 0.5 0.5 0.5 0.5 0.5 0.5 0.5 0.5 0.5\n 0.5 0.5 0.5 0.5 0.5 0.5 0.5 0.5 0.5 0.5 0.5 0.5 0.5 0.5 0.5 0.5 0.5 0.5\n 0.5 0.5 0.5 0.5 0.5 0.5 0.5 0.5 0.5 0.5 0.5 0.5 0.5 0.5 0.5 0.5 0.5 0.5\n 0.5 0.5 0.5 0.5 0.5 0.5 0.5 0.5 0.5 0.5 0.5 0.5 0.5 0.5 0.5 0.5 0.5 0.5\n 0.5 0.5 0.5 0.5 0.5 0.5 0.5 0.5 0.5 0.5 0.5 0.5 0.5 0.5 0.5 0.5 0.5 0.5\n 0.5 0.5 0.5 0.5 0.5 0.5 0.5 0.5 0.5 0.5]\n"
     ]
    }
   ],
   "source": []
  },
  {
   "cell_type": "code",
   "execution_count": null,
   "metadata": {},
   "outputs": [],
   "source": []
  }
 ]
}